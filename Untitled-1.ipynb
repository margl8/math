{
 "cells": [
  {
   "cell_type": "code",
   "execution_count": 116,
   "metadata": {},
   "outputs": [],
   "source": [
    "t = [0, 0.5, 1, 1.6, 2.1, 2.6, 3.1, 3.4, 3.6, 3.9, 4.2, 4.7, 4.95, 5.24, 5.5, 5.75, 6, 6.28]\n",
    "x = [0, 0.5, 0.9, 0.98, 0.8, 0.4, -0.8, 1.6, -1.4, -1.6, 1.0, -2.0, 1.1, -1.1, -2.6, 1.8, 0, -1.05]\n",
    "otr = [i for i in range(-10,11)]"
   ]
  },
  {
   "cell_type": "code",
   "execution_count": 117,
   "metadata": {},
   "outputs": [
    {
     "name": "stdout",
     "output_type": "stream",
     "text": [
      "[0, 0.5, 1, 1.6, 2.1, 2.6, 3.1, 3.4, 3.6, 3.9, 4.2, 4.7, 4.95, 5.24, 5.5, 5.75, 6, 6.28]\n",
      "[0, 0.5, 0.9, 0.98, 0.8, 0.4, -0.8, 1.6, -1.4, -1.6, 1.0, -2.0, 1.1, -1.1, -2.6, 1.8, 0, -1.05]\n",
      "[-10, -9, -8, -7, -6, -5, -4, -3, -2, -1, 0, 1, 2, 3, 4, 5, 6, 7, 8, 9, 10]\n",
      "18\n",
      "18\n"
     ]
    }
   ],
   "source": [
    "print(t, x, otr, sep=\"\\n\")\n",
    "print(len(t), len(x), sep=\"\\n\")\n",
    "\n",
    "t = x \n",
    "x = y \n"
   ]
  },
  {
   "cell_type": "code",
   "execution_count": 118,
   "metadata": {},
   "outputs": [
    {
     "name": "stdout",
     "output_type": "stream",
     "text": [
      "18 18\n"
     ]
    }
   ],
   "source": [
    "a = [x[i] - x[i] for i in range(len(x))] #разница между а1 и а2\n",
    "tau = [t[i] for i in range(len(t))] #сдвиг от оси до оси по t \n",
    "e = 2.78 \n",
    "print(len(a), len(tau))"
   ]
  },
  {
   "cell_type": "code",
   "execution_count": 120,
   "metadata": {},
   "outputs": [
    {
     "name": "stdout",
     "output_type": "stream",
     "text": [
      "0.5 0.5 0 0\n",
      "1 0.9 0.0 0.5\n",
      "1.6 0.98 0.0 1\n",
      "2.1 0.8 0.0 1.6\n",
      "2.6 0.4 0.0 2.1\n",
      "3.1 -0.8 0.0 2.6\n",
      "3.4 1.6 0.0 3.1\n",
      "3.6 -1.4 0.0 3.4\n",
      "3.9 -1.6 0.0 3.6\n",
      "4.2 1.0 0.0 3.9\n",
      "4.7 -2.0 0.0 4.2\n",
      "4.95 1.1 0.0 4.7\n",
      "5.24 -1.1 0.0 4.95\n",
      "5.5 -2.6 0.0 5.24\n",
      "5.75 1.8 0.0 5.5\n",
      "6 0 0.0 5.75\n",
      "6.28 -1.05 0 6\n"
     ]
    }
   ],
   "source": [
    "for i in range(17):\n",
    "    print(t[i+1], x[i+1], a[i], tau[i])"
   ]
  }
 ],
 "metadata": {
  "kernelspec": {
   "display_name": "Python 3",
   "language": "python",
   "name": "python3"
  },
  "language_info": {
   "codemirror_mode": {
    "name": "ipython",
    "version": 3
   },
   "file_extension": ".py",
   "mimetype": "text/x-python",
   "name": "python",
   "nbconvert_exporter": "python",
   "pygments_lexer": "ipython3",
   "version": "3.11.2"
  },
  "orig_nbformat": 4
 },
 "nbformat": 4,
 "nbformat_minor": 2
}

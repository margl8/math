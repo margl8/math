{
 "cells": [
  {
   "cell_type": "code",
   "execution_count": 1,
   "metadata": {},
   "outputs": [],
   "source": [
    "t = [0, 0.5, 1, 1.6, 2.1, 2.6, 3.1, 3.4, 3.6, 3.9, 4.2, 4.7, 4.95, 5.24, 5.5, 5.75, 6, 6.28]\n",
    "a = [0, 0.5, 0.9, 0.98, 0.8, 0.4, -0.8, 1.6, -1.4, -1.6, 1.0, -2.0, 1.1, -1.1, -2.6, 1.8, 0, -1.05]\n",
    "otr = [i for i in range(-10,11)]"
   ]
  },
  {
   "cell_type": "code",
   "execution_count": 2,
   "metadata": {},
   "outputs": [
    {
     "name": "stdout",
     "output_type": "stream",
     "text": [
      "[0, 0.5, 1, 1.6, 2.1, 2.6, 3.1, 3.4, 3.6, 3.9, 4.2, 4.7, 4.95, 5.24, 5.5, 5.75, 6, 6.28]\n",
      "[0, 0.5, 0.9, 0.98, 0.8, 0.4, -0.8, 1.6, -1.4, -1.6, 1.0, -2.0, 1.1, -1.1, -2.6, 1.8, 0, -1.05]\n",
      "[-10, -9, -8, -7, -6, -5, -4, -3, -2, -1, 0, 1, 2, 3, 4, 5, 6, 7, 8, 9, 10]\n",
      "18\n",
      "18\n"
     ]
    },
    {
     "ename": "NameError",
     "evalue": "name 'y' is not defined",
     "output_type": "error",
     "traceback": [
      "\u001b[1;31m---------------------------------------------------------------------------\u001b[0m",
      "\u001b[1;31mNameError\u001b[0m                                 Traceback (most recent call last)",
      "\u001b[1;32me:\\!!py_projects\\math\\Untitled-1.ipynb Ячейка 2\u001b[0m in \u001b[0;36m5\n\u001b[0;32m      <a href='vscode-notebook-cell:/e%3A/%21%21py_projects/math/Untitled-1.ipynb#W1sZmlsZQ%3D%3D?line=1'>2</a>\u001b[0m \u001b[39mprint\u001b[39m(\u001b[39mlen\u001b[39m(t), \u001b[39mlen\u001b[39m(x), sep\u001b[39m=\u001b[39m\u001b[39m\"\u001b[39m\u001b[39m\\n\u001b[39;00m\u001b[39m\"\u001b[39m)\n\u001b[0;32m      <a href='vscode-notebook-cell:/e%3A/%21%21py_projects/math/Untitled-1.ipynb#W1sZmlsZQ%3D%3D?line=3'>4</a>\u001b[0m t \u001b[39m=\u001b[39m x \n\u001b[1;32m----> <a href='vscode-notebook-cell:/e%3A/%21%21py_projects/math/Untitled-1.ipynb#W1sZmlsZQ%3D%3D?line=4'>5</a>\u001b[0m x \u001b[39m=\u001b[39m y \n",
      "\u001b[1;31mNameError\u001b[0m: name 'y' is not defined"
     ]
    }
   ],
   "source": [
    "print(t, x, otr, sep=\"\\n\")\n",
    "print(len(t), len(x), sep=\"\\n\")\n",
    "\n",
    "t = x \n",
    "x = y \n"
   ]
  },
  {
   "cell_type": "code",
   "execution_count": null,
   "metadata": {},
   "outputs": [
    {
     "name": "stdout",
     "output_type": "stream",
     "text": [
      "18 18\n"
     ]
    }
   ],
   "source": [
    "a = [x[i] - x[i] for i in range(len(x))] #разница между а1 и а2\n",
    "tau = [t[i] for i in range(len(t))] #сдвиг от оси до оси по t \n",
    "e = 2.78 \n",
    "print(len(a), len(tau))"
   ]
  },
  {
   "cell_type": "code",
   "execution_count": null,
   "metadata": {},
   "outputs": [
    {
     "name": "stdout",
     "output_type": "stream",
     "text": [
      "0.5 0.5 0 0\n",
      "1 0.9 0.0 0.5\n",
      "1.6 0.98 0.0 1\n",
      "2.1 0.8 0.0 1.6\n",
      "2.6 0.4 0.0 2.1\n",
      "3.1 -0.8 0.0 2.6\n",
      "3.4 1.6 0.0 3.1\n",
      "3.6 -1.4 0.0 3.4\n",
      "3.9 -1.6 0.0 3.6\n",
      "4.2 1.0 0.0 3.9\n",
      "4.7 -2.0 0.0 4.2\n",
      "4.95 1.1 0.0 4.7\n",
      "5.24 -1.1 0.0 4.95\n",
      "5.5 -2.6 0.0 5.24\n",
      "5.75 1.8 0.0 5.5\n",
      "6 0 0.0 5.75\n",
      "6.28 -1.05 0 6\n"
     ]
    }
   ],
   "source": [
    "for i in range(17):\n",
    "    print(t[i+1], x[i+1], a[i], tau[i])"
   ]
  }
 ],
 "metadata": {
  "kernelspec": {
   "display_name": "Python 3",
   "language": "python",
   "name": "python3"
  },
  "language_info": {
   "codemirror_mode": {
    "name": "ipython",
    "version": 3
   },
   "file_extension": ".py",
   "mimetype": "text/x-python",
   "name": "python",
   "nbconvert_exporter": "python",
   "pygments_lexer": "ipython3",
   "version": "3.11.1"
  },
  "orig_nbformat": 4
 },
 "nbformat": 4,
 "nbformat_minor": 2
}

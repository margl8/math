{
 "cells": [
  {
   "cell_type": "code",
   "execution_count": 23,
   "metadata": {},
   "outputs": [],
   "source": [
    "import requests as rq\n",
    "import pandas as pd\n",
    "import xml.etree.ElementTree as ET"
   ]
  },
  {
   "cell_type": "markdown",
   "metadata": {
    "tags": []
   },
   "source": [
    "def get_currency_rate(char_code_currency=\"USD\"):\n",
    "    \"\"\"\n",
    "    :param char_code_currency: can see here - https://www.cbr.ru/scripts/XML_daily.asp\n",
    "    :return: float_number\n",
    "    \"\"\"\n",
    "    return float(\n",
    "    ET.fromstring(requests.get('https://www.cbr.ru/scripts/XML_daily.asp').text).find(\n",
    "    './Valute[CharCode=\"USD\"]/Value').text.replace(',', '.')\n",
    "    )\n",
    "\n",
    "\n",
    "print(get_currency_rate())"
   ]
  },
  {
   "cell_type": "code",
   "execution_count": 26,
   "metadata": {},
   "outputs": [
    {
     "ename": "ParseError",
     "evalue": "mismatched tag: line 87, column 2 (<string>)",
     "output_type": "error",
     "traceback": [
      "Traceback \u001b[1;36m(most recent call last)\u001b[0m:\n",
      "\u001b[0m  File \u001b[0;32me:\\!!py_projects\\math\\.venv\\Lib\\site-packages\\IPython\\core\\interactiveshell.py:3460\u001b[0m in \u001b[0;35mrun_code\u001b[0m\n    exec(code_obj, self.user_global_ns, self.user_ns)\u001b[0m\n",
      "\u001b[0m  Cell \u001b[0;32mIn[26], line 8\u001b[0m\n    print(get_currency_rate())\u001b[0m\n",
      "\u001b[0m  Cell \u001b[0;32mIn[26], line 3\u001b[0m in \u001b[0;35mget_currency_rate\u001b[0m\n    ET.fromstring(rq.get('https://www.cbr.ru/scripts/XML_dynamic.asp').text).find(\u001b[0m\n",
      "\u001b[1;36m  File \u001b[1;32mE:\\!!PyProjects\\_Python311\\Lib\\xml\\etree\\ElementTree.py:1338\u001b[1;36m in \u001b[1;35mXML\u001b[1;36m\n\u001b[1;33m    parser.feed(text)\u001b[1;36m\n",
      "\u001b[1;36m  File \u001b[1;32m<string>\u001b[1;36m\u001b[0m\n\u001b[1;31mParseError\u001b[0m\u001b[1;31m:\u001b[0m mismatched tag: line 87, column 2\n"
     ]
    }
   ],
   "source": [
    "def get_currency_rate(char_code_currency=\"USD\"):\n",
    "    return str(\n",
    "    ET.fromstring(rq.get('https://www.cbr.ru/scripts/XML_dynamic.asp').text).find(\n",
    "    './Value/Value').text.replace(',', '.')\n",
    "    )\n",
    "\n",
    "\n",
    "print(get_currency_rate())"
   ]
  }
 ],
 "metadata": {
  "kernelspec": {
   "display_name": "Python 3",
   "language": "python",
   "name": "python3"
  },
  "language_info": {
   "codemirror_mode": {
    "name": "ipython",
    "version": 3
   },
   "file_extension": ".py",
   "mimetype": "text/x-python",
   "name": "python",
   "nbconvert_exporter": "python",
   "pygments_lexer": "ipython3",
   "version": "3.11.1"
  },
  "orig_nbformat": 4
 },
 "nbformat": 4,
 "nbformat_minor": 2
}

{
 "cells": [
  {
   "cell_type": "code",
   "execution_count": 141,
   "metadata": {},
   "outputs": [],
   "source": [
    "import pandas as pd\n",
    "import math as m\n",
    "import numpy as np\n",
    "import scipy as sp \n",
    "import plotly.express as px\n",
    "import plotly.graph_objects as go\n"
   ]
  },
  {
   "cell_type": "code",
   "execution_count": 142,
   "metadata": {},
   "outputs": [],
   "source": [
    "LENGTH = np.arange(-25,76)\n",
    "TIME = [0, 0.5, 1, 1.6, 2.1, 2.6, 3.1, 3.4, 3.6, 3.9, 4.2, 4.7, 4.95, 5.24, 5.5, 5.75, 6, 6.28]\n",
    "AMLITUDE = [0, 0.5, 0.9, 0.98, 0.8, 0.4, -0.8, 1.6, -1.4, -1.6, 1.0, -2.0, 1.1, -1.1, -2.6, 1.8, 0, -1.05]\n",
    "df_signal = pd.DataFrame()"
   ]
  },
  {
   "cell_type": "code",
   "execution_count": 143,
   "metadata": {},
   "outputs": [],
   "source": [
    "#Сигнал задан функцией\n",
    "def signal(time):\n",
    "    A = 1\n",
    "    T = 50\n",
    "    fi = 0\n",
    "    omega = (2*m.pi)/T\n",
    "    f = A * m.sin(omega*time+fi)  #функция сигнала\n",
    "    return f\n"
   ]
  },
  {
   "cell_type": "code",
   "execution_count": 144,
   "metadata": {},
   "outputs": [],
   "source": [
    "def wavelet(a, tau):\n",
    "    def function(time):\n",
    "        f = (1/a**0.5) * m.exp(-0.5*((time-tau)/a)**2) * (((time-tau)/a)**2-1) * signal(time)\n",
    "        return f\n",
    "    wave =  sp.integrate.quad(function, min(LENGTH), max(LENGTH)+1)\n",
    "    return round(wave[0],3)\n",
    "\n"
   ]
  },
  {
   "cell_type": "code",
   "execution_count": 145,
   "metadata": {},
   "outputs": [],
   "source": [
    "def signal_line_chart(df):\n",
    "    df[\"Y - Амплитуда\"] = [signal(a) for a in AMLITUDE]\n",
    "    df[\"X - Время\"] = [t for t in TIME]\n",
    "\n",
    "    signal_chart = px.line(df_signal, \n",
    "                        x=\"X - Время\", y=\"Y - Амплитуда\", \n",
    "                        title='Гармоническое колебание')\n",
    "    \n",
    "    return signal_chart.show()\n"
   ]
  },
  {
   "cell_type": "code",
   "execution_count": 146,
   "metadata": {},
   "outputs": [],
   "source": [
    "def signal_3d_chart(df):\n",
    "    df[\"Z\"] = [[wavelet(a=a, tau=t) for a in range(0, len(AMLITUDE), 1)]\n",
    "                       for t in range(0, len(TIME), 1)] \n",
    "    fig = go.Figure(data=[go.Surface(z=df_signal['Z'])])\n",
    "    fig.update_traces(contours_z=dict(show=True, usecolormap=True,\n",
    "                                    highlightcolor=\"limegreen\", project_z=True))\n",
    "    fig.update_layout(title='График сигнала')\n",
    "\n",
    "    return fig.show()\n"
   ]
  }
 ],
 "metadata": {
  "kernelspec": {
   "display_name": "Python 3",
   "language": "python",
   "name": "python3"
  },
  "language_info": {
   "codemirror_mode": {
    "name": "ipython",
    "version": 3
   },
   "file_extension": ".py",
   "mimetype": "text/x-python",
   "name": "python",
   "nbconvert_exporter": "python",
   "pygments_lexer": "ipython3",
   "version": "3.11.1"
  },
  "orig_nbformat": 4
 },
 "nbformat": 4,
 "nbformat_minor": 2
}
